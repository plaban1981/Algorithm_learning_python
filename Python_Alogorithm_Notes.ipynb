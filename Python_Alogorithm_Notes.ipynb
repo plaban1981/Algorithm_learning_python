{
  "nbformat": 4,
  "nbformat_minor": 0,
  "metadata": {
    "colab": {
      "name": "Python_Alogorithm_Notes.ipynb",
      "provenance": [],
      "authorship_tag": "ABX9TyO/2QMdL6uRN+PfATGKmW11",
      "include_colab_link": true
    },
    "kernelspec": {
      "name": "python3",
      "display_name": "Python 3"
    },
    "language_info": {
      "name": "python"
    }
  },
  "cells": [
    {
      "cell_type": "markdown",
      "metadata": {
        "id": "view-in-github",
        "colab_type": "text"
      },
      "source": [
        "<a href=\"https://colab.research.google.com/github/plaban1981/Algorithm_learning_python/blob/main/Python_Alogorithm_Notes.ipynb\" target=\"_parent\"><img src=\"https://colab.research.google.com/assets/colab-badge.svg\" alt=\"Open In Colab\"/></a>"
      ]
    },
    {
      "cell_type": "markdown",
      "source": [
        "## Fizz and Buzz \n",
        "\n",
        "Fizz and Buzz refer to any number that's a multiple of 3 and 5 respectively. In other words, if a number is divisible\n",
        "by 3, it is substituted with fizz; if a number is divisible by 5, it is substituted with buzz. If a number is simultaneously\n",
        "a multiple of 3 AND 5, the number is replaced with \"fizz buzz.\""
      ],
      "metadata": {
        "id": "l3afFbZW3UYk"
      }
    },
    {
      "cell_type": "code",
      "execution_count": 4,
      "metadata": {
        "id": "3mDCV5-A3Pws"
      },
      "outputs": [],
      "source": [
        "number = [1,2,3,4,5,6,7,8,9,10,11,12,13,14,15]\n",
        "def fizzbuzz(number):\n",
        "  output = []\n",
        "  for num in number:\n",
        "    if num % 3 == 0 and  num % 5 == 0:\n",
        "      output.append(\"fizz buzz\")\n",
        "    elif num % 3 == 0 :\n",
        "      output.append(\"fizz\")\n",
        "    elif num % 5 == 0:\n",
        "     output.append(\"buzz\")\n",
        "    else:\n",
        "     output.append(num)\n",
        "  return output\n"
      ]
    },
    {
      "cell_type": "code",
      "source": [
        "%timeit fizzbuzz(number)"
      ],
      "metadata": {
        "colab": {
          "base_uri": "https://localhost:8080/"
        },
        "id": "OdSYroDx4R_-",
        "outputId": "ec178054-06f0-4ec5-a9b4-2e1753023ca6"
      },
      "execution_count": 5,
      "outputs": [
        {
          "output_type": "stream",
          "name": "stdout",
          "text": [
            "100000 loops, best of 5: 4 µs per loop\n"
          ]
        }
      ]
    },
    {
      "cell_type": "markdown",
      "source": [
        "Imagine if the\n",
        "range increases from 1-15 to 1-100. The compiler will check each number to determine whether it is divisible by 3\n",
        "or 5. It would then run through the numbers again to check if the numbers are divisible by 3 and 5. The code would\n",
        "essentially have to run through each number in the array twice — it would have to runs the numbers by 3 first and\n",
        "then run it by 5. To speed up the process, we can simply tell our code to divide the numbers by 15 directly."
      ],
      "metadata": {
        "id": "w-iDz_qw4-1D"
      }
    },
    {
      "cell_type": "code",
      "source": [
        "def fizzbuzz_new(number):\n",
        "  output = []\n",
        "  for num in number:\n",
        "    if num % 15 == 0:\n",
        "      output.append(\"fizz buzz\")\n",
        "    elif num % 3 == 0 :\n",
        "      output.append(\"fizz\")\n",
        "    elif num % 5 == 0:\n",
        "     output.append(\"buzz\")\n",
        "    else:\n",
        "     output.append(num)\n",
        "  return output"
      ],
      "metadata": {
        "id": "v4eWvePO5AV6"
      },
      "execution_count": 6,
      "outputs": []
    },
    {
      "cell_type": "code",
      "source": [
        "%timeit fizzbuzz_new(number)"
      ],
      "metadata": {
        "colab": {
          "base_uri": "https://localhost:8080/"
        },
        "id": "muhcXG3Y5Isv",
        "outputId": "47cd00c3-784c-433f-ff7f-7fd525924ec7"
      },
      "execution_count": 7,
      "outputs": [
        {
          "output_type": "stream",
          "name": "stdout",
          "text": [
            "100000 loops, best of 5: 3.76 µs per loop\n"
          ]
        }
      ]
    },
    {
      "cell_type": "code",
      "source": [
        ""
      ],
      "metadata": {
        "id": "AYVQGgPh5LOE"
      },
      "execution_count": null,
      "outputs": []
    },
    {
      "cell_type": "code",
      "source": [
        ""
      ],
      "metadata": {
        "id": "p_DPP_OB51bw"
      },
      "execution_count": null,
      "outputs": []
    }
  ]
}